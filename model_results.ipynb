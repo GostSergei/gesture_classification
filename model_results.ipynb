{
 "cells": [
  {
   "cell_type": "code",
   "execution_count": 1,
   "metadata": {},
   "outputs": [],
   "source": [
    "%load_ext autoreload\n",
    "%autoreload 1\n",
    "%aimport modules.dataset_auxiliary, modules.classification_auxiliary, modules.ml_auxiliary, modules.bullets\n",
    "%aimport modules.results_auxiliary, modules.bullets"
   ]
  },
  {
   "cell_type": "code",
   "execution_count": 2,
   "metadata": {},
   "outputs": [],
   "source": [
    "import numpy as np \n",
    "import pandas as pd\n",
    "import matplotlib.pyplot as plt\n",
    "\n",
    "\n",
    "import os\n",
    "import pickle\n",
    "\n",
    "from modules.bullets import*\n",
    "from modules.classification_auxiliary import *\n",
    "from modules.ml_auxiliary import *\n",
    "from modules.results_auxiliary import *\n",
    "import copy\n",
    "\n",
    "from abc import ABC, abstractmethod\n",
    "import time\n",
    "import json\n",
    "import timeit\n",
    "\n",
    "from tqdm import tqdm\n",
    "\n",
    "import pystmm\n",
    "\n",
    "\n",
    "import pathlib\n"
   ]
  },
  {
   "cell_type": "code",
   "execution_count": 3,
   "metadata": {},
   "outputs": [
    {
     "data": {
      "text/plain": [
       "<function modules.bullets.load_json(src)>"
      ]
     },
     "execution_count": 3,
     "metadata": {},
     "output_type": "execute_result"
    }
   ],
   "source": [
    "load_json"
   ]
  },
  {
   "cell_type": "markdown",
   "metadata": {},
   "source": [
    "# Form results table"
   ]
  },
  {
   "cell_type": "code",
   "execution_count": 4,
   "metadata": {},
   "outputs": [],
   "source": [
    "src = 'stages/results_1/'\n",
    "form_table = form_table_v1\n",
    "\n",
    "\n",
    "src_list = get_target_files(src)\n",
    "df = form_table(src_list)\n",
    "table = get_fancy_table(df)\n",
    "\n"
   ]
  },
  {
   "cell_type": "code",
   "execution_count": 5,
   "metadata": {},
   "outputs": [
    {
     "data": {
      "text/html": [
       "<div>\n",
       "<style scoped>\n",
       "    .dataframe tbody tr th:only-of-type {\n",
       "        vertical-align: middle;\n",
       "    }\n",
       "\n",
       "    .dataframe tbody tr th {\n",
       "        vertical-align: top;\n",
       "    }\n",
       "\n",
       "    .dataframe thead th {\n",
       "        text-align: right;\n",
       "    }\n",
       "</style>\n",
       "<table border=\"1\" class=\"dataframe\">\n",
       "  <thead>\n",
       "    <tr style=\"text-align: right;\">\n",
       "      <th></th>\n",
       "      <th>model</th>\n",
       "      <th>Accuracy, %</th>\n",
       "      <th>Inference time, ms</th>\n",
       "    </tr>\n",
       "  </thead>\n",
       "  <tbody>\n",
       "    <tr>\n",
       "      <th>0</th>\n",
       "      <td>SVD_max+KNN: {}</td>\n",
       "      <td>36.47</td>\n",
       "      <td>132.546</td>\n",
       "    </tr>\n",
       "    <tr>\n",
       "      <th>1</th>\n",
       "      <td>SVD_max+LogReg: {}</td>\n",
       "      <td>90.96</td>\n",
       "      <td>0.237</td>\n",
       "    </tr>\n",
       "    <tr>\n",
       "      <th>2</th>\n",
       "      <td>SVD_max+RandForest: {}</td>\n",
       "      <td>3.01(0.22)</td>\n",
       "      <td>67.693</td>\n",
       "    </tr>\n",
       "    <tr>\n",
       "      <th>3</th>\n",
       "      <td>SVD_max+STMM: {}</td>\n",
       "      <td>71.7(0.12)</td>\n",
       "      <td>1.108</td>\n",
       "    </tr>\n",
       "    <tr>\n",
       "      <th>4</th>\n",
       "      <td>SVD_max+SVMClassifier: {}</td>\n",
       "      <td>91.08(0.0)</td>\n",
       "      <td>14.906</td>\n",
       "    </tr>\n",
       "    <tr>\n",
       "      <th>5</th>\n",
       "      <td>SVD_max+XGBoost: {}</td>\n",
       "      <td>70.72(0.0)</td>\n",
       "      <td>15.335</td>\n",
       "    </tr>\n",
       "    <tr>\n",
       "      <th>6</th>\n",
       "      <td>original+KNN: {}</td>\n",
       "      <td>49.4</td>\n",
       "      <td>101.828</td>\n",
       "    </tr>\n",
       "    <tr>\n",
       "      <th>7</th>\n",
       "      <td>original+LogReg: {}</td>\n",
       "      <td>92.28</td>\n",
       "      <td>0.706</td>\n",
       "    </tr>\n",
       "    <tr>\n",
       "      <th>8</th>\n",
       "      <td>original+RandForest: {}</td>\n",
       "      <td>95.22(0.26)</td>\n",
       "      <td>28.356</td>\n",
       "    </tr>\n",
       "    <tr>\n",
       "      <th>9</th>\n",
       "      <td>original+STMM: {}</td>\n",
       "      <td>95.97(0.28)</td>\n",
       "      <td>8.301</td>\n",
       "    </tr>\n",
       "    <tr>\n",
       "      <th>10</th>\n",
       "      <td>original+SVMClassifier: {}</td>\n",
       "      <td>93.89(0.0)</td>\n",
       "      <td>131.939</td>\n",
       "    </tr>\n",
       "    <tr>\n",
       "      <th>11</th>\n",
       "      <td>original+XGBoost: {}</td>\n",
       "      <td>91.08(0.0)</td>\n",
       "      <td>39.987</td>\n",
       "    </tr>\n",
       "    <tr>\n",
       "      <th>12</th>\n",
       "      <td>tucker_full+KNN: {}</td>\n",
       "      <td>2.22</td>\n",
       "      <td>319.18</td>\n",
       "    </tr>\n",
       "    <tr>\n",
       "      <th>13</th>\n",
       "      <td>tucker_full+LogReg: {}</td>\n",
       "      <td>88.8(0.0)</td>\n",
       "      <td>0.492</td>\n",
       "    </tr>\n",
       "    <tr>\n",
       "      <th>14</th>\n",
       "      <td>tucker_full+RandForest: {}</td>\n",
       "      <td>91.56(0.36)</td>\n",
       "      <td>340.828</td>\n",
       "    </tr>\n",
       "    <tr>\n",
       "      <th>15</th>\n",
       "      <td>tucker_full+STMM: {}</td>\n",
       "      <td>90.84(0.1)</td>\n",
       "      <td>5.076</td>\n",
       "    </tr>\n",
       "    <tr>\n",
       "      <th>16</th>\n",
       "      <td>tucker_full+SVMClassifier: {}</td>\n",
       "      <td>76.47(0.0)</td>\n",
       "      <td>75.831</td>\n",
       "    </tr>\n",
       "    <tr>\n",
       "      <th>17</th>\n",
       "      <td>tucker_full+XGBoost: {}</td>\n",
       "      <td>95.51(0.0)</td>\n",
       "      <td>57.037</td>\n",
       "    </tr>\n",
       "  </tbody>\n",
       "</table>\n",
       "</div>"
      ],
      "text/plain": [
       "                            model  Accuracy, % Inference time, ms\n",
       "0                 SVD_max+KNN: {}        36.47            132.546\n",
       "1              SVD_max+LogReg: {}        90.96              0.237\n",
       "2          SVD_max+RandForest: {}   3.01(0.22)             67.693\n",
       "3                SVD_max+STMM: {}   71.7(0.12)              1.108\n",
       "4       SVD_max+SVMClassifier: {}   91.08(0.0)             14.906\n",
       "5             SVD_max+XGBoost: {}   70.72(0.0)             15.335\n",
       "6                original+KNN: {}         49.4            101.828\n",
       "7             original+LogReg: {}        92.28              0.706\n",
       "8         original+RandForest: {}  95.22(0.26)             28.356\n",
       "9               original+STMM: {}  95.97(0.28)              8.301\n",
       "10     original+SVMClassifier: {}   93.89(0.0)            131.939\n",
       "11           original+XGBoost: {}   91.08(0.0)             39.987\n",
       "12            tucker_full+KNN: {}         2.22             319.18\n",
       "13         tucker_full+LogReg: {}    88.8(0.0)              0.492\n",
       "14     tucker_full+RandForest: {}  91.56(0.36)            340.828\n",
       "15           tucker_full+STMM: {}   90.84(0.1)              5.076\n",
       "16  tucker_full+SVMClassifier: {}   76.47(0.0)             75.831\n",
       "17        tucker_full+XGBoost: {}   95.51(0.0)             57.037"
      ]
     },
     "execution_count": 5,
     "metadata": {},
     "output_type": "execute_result"
    }
   ],
   "source": [
    "table"
   ]
  },
  {
   "cell_type": "markdown",
   "metadata": {},
   "source": [
    "## code\n"
   ]
  },
  {
   "cell_type": "code",
   "execution_count": 67,
   "metadata": {},
   "outputs": [],
   "source": [
    "# def form_table_v1(src_list, dst=None):\n",
    "    \n",
    "#     df = pd.DataFrame()\n",
    "#     for src_file in src_list:\n",
    "#         res_dict = load_json(src_file)\n",
    "#         main_dict = {}\n",
    "        \n",
    "        \n",
    "        \n",
    "#         for key in ['model','mean_acc', 'std_acc', 'inf_time']:\n",
    "#             main_dict[key] = [res_dict[key]]\n",
    "           \n",
    "#         file_name = pathlib.Path(src_file).stem\n",
    "#         pref = '_'.join(file_name.split('_')[1:])\n",
    "#         if pref == '':\n",
    "#             pref = 'original'\n",
    "#         # pref = [pref] if pref != '' else []\n",
    "        \n",
    "#         main_dict['model'] = '+'.join([pref] + [res_dict['model']])\n",
    "#         df_row = pd.DataFrame(main_dict)\n",
    "#         df = pd.concat([df, df_row])\n",
    "        \n",
    "#     df = df.sort_values(['model'])\n",
    "    \n",
    "#     df = df.reset_index(drop=True)\n",
    "#     return df\n",
    "\n",
    "\n",
    "# def get_fancy_table(table):\n",
    "#     mean_col = (100*table['mean_acc']).round(2).map(lambda x: str(x))\n",
    "#     std_col = (100*table['std_acc']).round(2).map(lambda x: f\"({x})\" if str(x) != 'nan' else '')\n",
    "#     table['Accuracy, %'] = mean_col + std_col\n",
    "#     table['Inference time, ms'] = (table['inf_time']*1000).round(3).map(lambda x: str(x) + '')\n",
    "#     return table[['model', 'Accuracy, %', 'Inference time, ms']]\n",
    "    \n",
    "    "
   ]
  },
  {
   "cell_type": "code",
   "execution_count": null,
   "metadata": {},
   "outputs": [],
   "source": [
    "# def get_target_files(src, suffix='.json'):\n",
    "#     src = pathlib.Path(src)\n",
    "#     src_list = []\n",
    "#     if src.is_file():\n",
    "#         src_list += [str(src)]\n",
    "    \n",
    "#     if src.is_dir():\n",
    "#         for src_file in os.listdir(src):\n",
    "#             if pathlib.Path(src_file).suffix == suffix:\n",
    "#                 src_list += [str(src_file)]\n",
    "#     return src_list\n",
    "\n",
    "\n",
    "\n"
   ]
  },
  {
   "cell_type": "code",
   "execution_count": 2,
   "metadata": {},
   "outputs": [
    {
     "name": "stdout",
     "output_type": "stream",
     "text": [
      "\u001b[0m\u001b[01;34mbackup\u001b[0m/   gestures.txt         requirements.txt   tensors.ipynb\n",
      "\u001b[01;34mbullets\u001b[0m/  model_results.ipynb  script_work.ipynb  tensors_my.ipynb\n",
      "\u001b[01;34menv\u001b[0m/      \u001b[01;34mmodules\u001b[0m/             \u001b[01;34mstages\u001b[0m/\n"
     ]
    }
   ],
   "source": [
    "ls"
   ]
  }
 ],
 "metadata": {
  "kernelspec": {
   "display_name": "Python 3.9.12 ('env': venv)",
   "language": "python",
   "name": "python3"
  },
  "language_info": {
   "codemirror_mode": {
    "name": "ipython",
    "version": 3
   },
   "file_extension": ".py",
   "mimetype": "text/x-python",
   "name": "python",
   "nbconvert_exporter": "python",
   "pygments_lexer": "ipython3",
   "version": "3.9.12"
  },
  "orig_nbformat": 4,
  "vscode": {
   "interpreter": {
    "hash": "56f519b09a7c96e87057d7f72b4f85aa2fa44db40cb4e1ff2739da3af976aad2"
   }
  }
 },
 "nbformat": 4,
 "nbformat_minor": 2
}
